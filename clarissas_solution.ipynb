{
 "cells": [
  {
   "cell_type": "markdown",
   "id": "0fd103bc",
   "metadata": {},
   "source": [
    "# Crosstabulation challenge"
   ]
  },
  {
   "cell_type": "code",
   "execution_count": 1,
   "id": "be7a9fd6",
   "metadata": {},
   "outputs": [
    {
     "name": "stdout",
     "output_type": "stream",
     "text": [
      "=====================================================================\n",
      "Assignment: crosstab challenge\n",
      "OK, version v1.18.1\n",
      "=====================================================================\n",
      "\n"
     ]
    }
   ],
   "source": [
    "# You may want to use this one.\n",
    "from itertools import product\n",
    "\n",
    "# Don't change this cell; just run it.\n",
    "import numpy as np  # The array library.\n",
    "\n",
    "import pandas as pd\n",
    "# Safe setting for Pandas.  Needs Pandas version >= 1.5.\n",
    "pd.set_option('mode.copy_on_write', True)\n",
    "\n",
    "# The OKpy testing system.\n",
    "from client.api.notebook import Notebook\n",
    "ok = Notebook('crosstab_challenge.ok')"
   ]
  },
  {
   "cell_type": "markdown",
   "id": "e7a9be9a",
   "metadata": {},
   "source": [
    "## The challenge\n",
    "\n",
    "Write a function that accepts a crosstab type DataFrame, and returns the corresponding row=observation DataFrame."
   ]
  },
  {
   "cell_type": "markdown",
   "id": "7a9142f6",
   "metadata": {},
   "source": [
    "Here's an example crosstabulation:"
   ]
  },
  {
   "cell_type": "code",
   "execution_count": 2,
   "id": "ebd591f1",
   "metadata": {},
   "outputs": [
    {
     "data": {
      "text/html": [
       "<div>\n",
       "<style scoped>\n",
       "    .dataframe tbody tr th:only-of-type {\n",
       "        vertical-align: middle;\n",
       "    }\n",
       "\n",
       "    .dataframe tbody tr th {\n",
       "        vertical-align: top;\n",
       "    }\n",
       "\n",
       "    .dataframe thead th {\n",
       "        text-align: right;\n",
       "    }\n",
       "</style>\n",
       "<table border=\"1\" class=\"dataframe\">\n",
       "  <thead>\n",
       "    <tr style=\"text-align: right;\">\n",
       "      <th></th>\n",
       "      <th>bystander</th>\n",
       "      <th>rescuer</th>\n",
       "    </tr>\n",
       "  </thead>\n",
       "  <tbody>\n",
       "    <tr>\n",
       "      <th>No</th>\n",
       "      <td>64</td>\n",
       "      <td>165</td>\n",
       "    </tr>\n",
       "    <tr>\n",
       "      <th>Yes</th>\n",
       "      <td>7</td>\n",
       "      <td>44</td>\n",
       "    </tr>\n",
       "  </tbody>\n",
       "</table>\n",
       "</div>"
      ],
      "text/plain": [
       "     bystander  rescuer\n",
       "No          64      165\n",
       "Yes          7       44"
      ]
     },
     "execution_count": 2,
     "metadata": {},
     "output_type": "execute_result"
    }
   ],
   "source": [
    "bystander_tab = pd.DataFrame([[64, 165],\n",
    "                              [7, 44]],\n",
    "                             columns=['bystander', 'rescuer'],\n",
    "                             index=['No', 'Yes'])\n",
    "bystander_tab"
   ]
  },
  {
   "cell_type": "markdown",
   "id": "3d68e772",
   "metadata": {},
   "source": [
    "This is a crosstabulation for which the raw material was an *observations* table / DataFrame.  That observations table had one row per person, two columns, where the first column has \"Yes\" or \"No\" for whether that person was a member of a political party, and the second has \"bystander\" or \"rescuer\".\n",
    "\n",
    "Here is the long-hand version of that, from the \"noble_politics\" page:"
   ]
  },
  {
   "cell_type": "code",
   "execution_count": 3,
   "id": "1a176b2e",
   "metadata": {},
   "outputs": [
    {
     "data": {
      "text/html": [
       "<div>\n",
       "<style scoped>\n",
       "    .dataframe tbody tr th:only-of-type {\n",
       "        vertical-align: middle;\n",
       "    }\n",
       "\n",
       "    .dataframe tbody tr th {\n",
       "        vertical-align: top;\n",
       "    }\n",
       "\n",
       "    .dataframe thead th {\n",
       "        text-align: right;\n",
       "    }\n",
       "</style>\n",
       "<table border=\"1\" class=\"dataframe\">\n",
       "  <thead>\n",
       "    <tr style=\"text-align: right;\">\n",
       "      <th></th>\n",
       "      <th>party_yn</th>\n",
       "      <th>respondent</th>\n",
       "    </tr>\n",
       "  </thead>\n",
       "  <tbody>\n",
       "    <tr>\n",
       "      <th>0</th>\n",
       "      <td>No</td>\n",
       "      <td>bystander</td>\n",
       "    </tr>\n",
       "    <tr>\n",
       "      <th>1</th>\n",
       "      <td>No</td>\n",
       "      <td>bystander</td>\n",
       "    </tr>\n",
       "    <tr>\n",
       "      <th>2</th>\n",
       "      <td>No</td>\n",
       "      <td>bystander</td>\n",
       "    </tr>\n",
       "    <tr>\n",
       "      <th>3</th>\n",
       "      <td>No</td>\n",
       "      <td>bystander</td>\n",
       "    </tr>\n",
       "    <tr>\n",
       "      <th>4</th>\n",
       "      <td>No</td>\n",
       "      <td>bystander</td>\n",
       "    </tr>\n",
       "    <tr>\n",
       "      <th>...</th>\n",
       "      <td>...</td>\n",
       "      <td>...</td>\n",
       "    </tr>\n",
       "    <tr>\n",
       "      <th>275</th>\n",
       "      <td>Yes</td>\n",
       "      <td>rescuer</td>\n",
       "    </tr>\n",
       "    <tr>\n",
       "      <th>276</th>\n",
       "      <td>Yes</td>\n",
       "      <td>rescuer</td>\n",
       "    </tr>\n",
       "    <tr>\n",
       "      <th>277</th>\n",
       "      <td>Yes</td>\n",
       "      <td>rescuer</td>\n",
       "    </tr>\n",
       "    <tr>\n",
       "      <th>278</th>\n",
       "      <td>Yes</td>\n",
       "      <td>rescuer</td>\n",
       "    </tr>\n",
       "    <tr>\n",
       "      <th>279</th>\n",
       "      <td>Yes</td>\n",
       "      <td>rescuer</td>\n",
       "    </tr>\n",
       "  </tbody>\n",
       "</table>\n",
       "<p>280 rows × 2 columns</p>\n",
       "</div>"
      ],
      "text/plain": [
       "    party_yn respondent\n",
       "0         No  bystander\n",
       "1         No  bystander\n",
       "2         No  bystander\n",
       "3         No  bystander\n",
       "4         No  bystander\n",
       "..       ...        ...\n",
       "275      Yes    rescuer\n",
       "276      Yes    rescuer\n",
       "277      Yes    rescuer\n",
       "278      Yes    rescuer\n",
       "279      Yes    rescuer\n",
       "\n",
       "[280 rows x 2 columns]"
      ]
     },
     "execution_count": 3,
     "metadata": {},
     "output_type": "execute_result"
    }
   ],
   "source": [
    "label_pairs = pd.DataFrame([['No', 'bystander'],\n",
    "                            ['Yes', 'bystander'],\n",
    "                            ['No', 'rescuer'],\n",
    "                            ['Yes', 'rescuer']],\n",
    "                           columns=['party_yn', 'respondent'])\n",
    "both_cols = np.concatenate([bystander_tab['bystander'],\n",
    "                            bystander_tab['rescuer']])\n",
    "label_indices = np.repeat([0, 1, 2, 3], both_cols)\n",
    "people = label_pairs.loc[label_indices].reset_index(drop=True)\n",
    "people"
   ]
  },
  {
   "cell_type": "code",
   "execution_count": 7,
   "id": "adba05dc",
   "metadata": {},
   "outputs": [
    {
     "data": {
      "text/html": [
       "<div>\n",
       "<style scoped>\n",
       "    .dataframe tbody tr th:only-of-type {\n",
       "        vertical-align: middle;\n",
       "    }\n",
       "\n",
       "    .dataframe tbody tr th {\n",
       "        vertical-align: top;\n",
       "    }\n",
       "\n",
       "    .dataframe thead th {\n",
       "        text-align: right;\n",
       "    }\n",
       "</style>\n",
       "<table border=\"1\" class=\"dataframe\">\n",
       "  <thead>\n",
       "    <tr style=\"text-align: right;\">\n",
       "      <th>respondent</th>\n",
       "      <th>bystander</th>\n",
       "      <th>rescuer</th>\n",
       "    </tr>\n",
       "    <tr>\n",
       "      <th>party_yn</th>\n",
       "      <th></th>\n",
       "      <th></th>\n",
       "    </tr>\n",
       "  </thead>\n",
       "  <tbody>\n",
       "    <tr>\n",
       "      <th>No</th>\n",
       "      <td>64</td>\n",
       "      <td>165</td>\n",
       "    </tr>\n",
       "    <tr>\n",
       "      <th>Yes</th>\n",
       "      <td>7</td>\n",
       "      <td>44</td>\n",
       "    </tr>\n",
       "  </tbody>\n",
       "</table>\n",
       "</div>"
      ],
      "text/plain": [
       "respondent  bystander  rescuer\n",
       "party_yn                      \n",
       "No                 64      165\n",
       "Yes                 7       44"
      ]
     },
     "execution_count": 7,
     "metadata": {},
     "output_type": "execute_result"
    }
   ],
   "source": [
    "# This corresponds to the input crosstab data frame.\n",
    "pd.crosstab(people['party_yn'], people['respondent'])"
   ]
  },
  {
   "cell_type": "markdown",
   "id": "7b76f487",
   "metadata": {},
   "source": [
    "Your job is to make a general function, `xtab2obs`, that accepts a crosstabulation data frame, and returns the corresponding observations data frame.\n",
    "\n",
    "The columns should be called 'label0', 'label0'.\n",
    "\n",
    "Your function should work with any number of rows (labels) and columns in the input data frame.  The example above as 2 row labels and 2 column labels, but your function should work for $m$ rows and $n$ columns, where $m$, $n$ can be any number."
   ]
  },
  {
   "cell_type": "code",
   "execution_count": 5,
   "id": "1072f870",
   "metadata": {
    "lines_to_next_cell": 2
   },
   "outputs": [],
   "source": [
    "def xtab2obs(tab_df):\n",
    "    # Your instructor's solution was 5 lines.\n",
    "    # Your code here\n",
    "    pairs = list(product(tab_df.columns, tab_df.index,))\n",
    "    df = pd.DataFrame(pairs, columns=[\"label1\", \"label0\"])\n",
    "    counts = np.concatenate([tab_df[i] for i in tab_df.columns])\n",
    "    label_indices = np.repeat(np.arange(len(pairs)), counts)\n",
    "    obs_df = df.loc[label_indices].reset_index(drop=True)\n",
    "\n",
    "    return obs_df"
   ]
  },
  {
   "cell_type": "code",
   "execution_count": 8,
   "id": "3dd12566",
   "metadata": {},
   "outputs": [
    {
     "name": "stdout",
     "output_type": "stream",
     "text": [
      "        label1 label0\n",
      "0    bystander     No\n",
      "1    bystander     No\n",
      "2    bystander     No\n",
      "3    bystander     No\n",
      "4    bystander     No\n",
      "..         ...    ...\n",
      "275    rescuer    Yes\n",
      "276    rescuer    Yes\n",
      "277    rescuer    Yes\n",
      "278    rescuer    Yes\n",
      "279    rescuer    Yes\n",
      "\n",
      "[280 rows x 2 columns]\n"
     ]
    },
    {
     "data": {
      "text/html": [
       "<div>\n",
       "<style scoped>\n",
       "    .dataframe tbody tr th:only-of-type {\n",
       "        vertical-align: middle;\n",
       "    }\n",
       "\n",
       "    .dataframe tbody tr th {\n",
       "        vertical-align: top;\n",
       "    }\n",
       "\n",
       "    .dataframe thead th {\n",
       "        text-align: right;\n",
       "    }\n",
       "</style>\n",
       "<table border=\"1\" class=\"dataframe\">\n",
       "  <thead>\n",
       "    <tr style=\"text-align: right;\">\n",
       "      <th>label1</th>\n",
       "      <th>bystander</th>\n",
       "      <th>rescuer</th>\n",
       "    </tr>\n",
       "    <tr>\n",
       "      <th>label0</th>\n",
       "      <th></th>\n",
       "      <th></th>\n",
       "    </tr>\n",
       "  </thead>\n",
       "  <tbody>\n",
       "    <tr>\n",
       "      <th>No</th>\n",
       "      <td>64</td>\n",
       "      <td>165</td>\n",
       "    </tr>\n",
       "    <tr>\n",
       "      <th>Yes</th>\n",
       "      <td>7</td>\n",
       "      <td>44</td>\n",
       "    </tr>\n",
       "  </tbody>\n",
       "</table>\n",
       "</div>"
      ],
      "text/plain": [
       "label1  bystander  rescuer\n",
       "label0                    \n",
       "No             64      165\n",
       "Yes             7       44"
      ]
     },
     "execution_count": 8,
     "metadata": {},
     "output_type": "execute_result"
    }
   ],
   "source": [
    "x = xtab2obs(bystander_tab)\n",
    "print(x)\n",
    "pd.crosstab(x[\"label0\"],x[\"label1\"])"
   ]
  },
  {
   "cell_type": "code",
   "execution_count": 9,
   "id": "60bb2f13",
   "metadata": {},
   "outputs": [],
   "source": [
    "def test_tab(in_tab):\n",
    "    obs = xtab2obs(in_tab)\n",
    "    assert len(obs) == np.sum(np.array(in_tab))\n",
    "    xtab = pd.crosstab(obs['label0'], obs['label1'])\n",
    "    assert xtab.equals(in_tab)"
   ]
  },
  {
   "cell_type": "code",
   "execution_count": 10,
   "id": "b262ecf4",
   "metadata": {},
   "outputs": [],
   "source": [
    "test_tab(bystander_tab)"
   ]
  },
  {
   "cell_type": "code",
   "execution_count": 11,
   "id": "6b787395",
   "metadata": {},
   "outputs": [
    {
     "data": {
      "text/html": [
       "<div>\n",
       "<style scoped>\n",
       "    .dataframe tbody tr th:only-of-type {\n",
       "        vertical-align: middle;\n",
       "    }\n",
       "\n",
       "    .dataframe tbody tr th {\n",
       "        vertical-align: top;\n",
       "    }\n",
       "\n",
       "    .dataframe thead th {\n",
       "        text-align: right;\n",
       "    }\n",
       "</style>\n",
       "<table border=\"1\" class=\"dataframe\">\n",
       "  <thead>\n",
       "    <tr style=\"text-align: right;\">\n",
       "      <th></th>\n",
       "      <th>col0</th>\n",
       "      <th>col1</th>\n",
       "      <th>col2</th>\n",
       "    </tr>\n",
       "  </thead>\n",
       "  <tbody>\n",
       "    <tr>\n",
       "      <th>A</th>\n",
       "      <td>10</td>\n",
       "      <td>15</td>\n",
       "      <td>20</td>\n",
       "    </tr>\n",
       "    <tr>\n",
       "      <th>B</th>\n",
       "      <td>3</td>\n",
       "      <td>7</td>\n",
       "      <td>9</td>\n",
       "    </tr>\n",
       "    <tr>\n",
       "      <th>C</th>\n",
       "      <td>1</td>\n",
       "      <td>12</td>\n",
       "      <td>19</td>\n",
       "    </tr>\n",
       "    <tr>\n",
       "      <th>D</th>\n",
       "      <td>2</td>\n",
       "      <td>22</td>\n",
       "      <td>9</td>\n",
       "    </tr>\n",
       "  </tbody>\n",
       "</table>\n",
       "</div>"
      ],
      "text/plain": [
       "   col0  col1  col2\n",
       "A    10    15    20\n",
       "B     3     7     9\n",
       "C     1    12    19\n",
       "D     2    22     9"
      ]
     },
     "execution_count": 11,
     "metadata": {},
     "output_type": "execute_result"
    }
   ],
   "source": [
    "fake_tab = pd.DataFrame([[10, 15, 20],\n",
    "                         [3, 7, 9],\n",
    "                         [1, 12, 19],\n",
    "                         [2, 22, 9]],\n",
    "                        columns=['col0', 'col1', 'col2'],\n",
    "                        index=list('ABCD'))\n",
    "fake_tab"
   ]
  },
  {
   "cell_type": "code",
   "execution_count": 16,
   "id": "06c8f441",
   "metadata": {},
   "outputs": [],
   "source": [
    "test_tab(fake_tab)"
   ]
  },
  {
   "cell_type": "markdown",
   "id": "324c92d3",
   "metadata": {},
   "source": [
    "## Done.\n",
    "\n",
    "Congratulations, you're done with the assignment!  Be sure to:\n",
    "\n",
    "- **run all the tests** (the next cell has a shortcut for that).\n",
    "- **Save and Checkpoint** from the `File` menu."
   ]
  },
  {
   "cell_type": "code",
   "execution_count": 17,
   "id": "3cc0f370",
   "metadata": {},
   "outputs": [],
   "source": [
    "# For your convenience, you can run this cell to run all the tests at once!\n",
    "import os\n",
    "_ = [ok.grade(q[:-3]) for q in os.listdir(\"tests\") if q.startswith('q')]"
   ]
  },
  {
   "cell_type": "code",
   "execution_count": null,
   "id": "21b4ebe7",
   "metadata": {},
   "outputs": [],
   "source": []
  },
  {
   "cell_type": "code",
   "execution_count": null,
   "id": "0c9184a4",
   "metadata": {},
   "outputs": [],
   "source": []
  }
 ],
 "metadata": {
  "jupytext": {
   "notebook_metadata_filter": "all,-language_info",
   "split_at_heading": true
  },
  "kernelspec": {
   "display_name": "Python 3 (ipykernel)",
   "language": "python",
   "name": "python3"
  },
  "language_info": {
   "codemirror_mode": {
    "name": "ipython",
    "version": 3
   },
   "file_extension": ".py",
   "mimetype": "text/x-python",
   "name": "python",
   "nbconvert_exporter": "python",
   "pygments_lexer": "ipython3",
   "version": "3.10.8"
  }
 },
 "nbformat": 4,
 "nbformat_minor": 5
}
