{
 "cells": [
  {
   "cell_type": "markdown",
   "id": "3f2a6644",
   "metadata": {},
   "source": [
    "# Crosstabulation challenge"
   ]
  },
  {
   "cell_type": "code",
   "execution_count": 1,
   "id": "bc1bc3c6",
   "metadata": {
    "execution": {
     "iopub.execute_input": "2023-02-04T11:36:12.180296Z",
     "iopub.status.busy": "2023-02-04T11:36:12.179998Z",
     "iopub.status.idle": "2023-02-04T11:36:12.557405Z",
     "shell.execute_reply": "2023-02-04T11:36:12.557009Z"
    }
   },
   "outputs": [],
   "source": [
    "# You may want to use this one.\n",
    "from itertools import product\n",
    "\n",
    "# Don't change this cell; just run it.\n",
    "import numpy as np  # The array library.\n",
    "\n",
    "import pandas as pd\n",
    "# Safe setting for Pandas.  Needs Pandas version >= 1.5.\n",
    "pd.set_option('mode.copy_on_write', True)\n",
    "\n",
    "# The OKpy testing system.\n",
    "from client.api.notebook import Notebook\n",
    "ok = Notebook('crosstab_challenge.ok')"
   ]
  },
  {
   "cell_type": "markdown",
   "id": "6d627a70",
   "metadata": {},
   "source": [
    "## The challenge\n",
    "\n",
    "Write a function that accepts a crosstab type DataFrame, and returns the corresponding row=observation DataFrame."
   ]
  },
  {
   "cell_type": "markdown",
   "id": "34144f0e",
   "metadata": {},
   "source": [
    "Here's an example crosstabulation:"
   ]
  },
  {
   "cell_type": "code",
   "execution_count": 2,
   "id": "d046b9a9",
   "metadata": {
    "execution": {
     "iopub.execute_input": "2023-02-04T11:36:12.559649Z",
     "iopub.status.busy": "2023-02-04T11:36:12.559448Z",
     "iopub.status.idle": "2023-02-04T11:36:12.567205Z",
     "shell.execute_reply": "2023-02-04T11:36:12.566858Z"
    }
   },
   "outputs": [],
   "source": [
    "bystander_tab = pd.DataFrame([[64, 165],\n",
    "                              [7, 44]],\n",
    "                             columns=['bystander', 'rescuer'],\n",
    "                             index=['No', 'Yes'])\n",
    "bystander_tab"
   ]
  },
  {
   "cell_type": "markdown",
   "id": "f8c89704",
   "metadata": {},
   "source": [
    "This is a crosstabulation for which the raw material was an *observations* table / DataFrame.  That observations table had one row per person, two columns, where the first column has \"Yes\" or \"No\" for whether that person was a member of a political party, and the second has \"bystander\" or \"rescuer\".\n",
    "\n",
    "Here is the long-hand version of that, from the \"noble_politics\" page:"
   ]
  },
  {
   "cell_type": "code",
   "execution_count": 3,
   "id": "4a5370a4",
   "metadata": {
    "execution": {
     "iopub.execute_input": "2023-02-04T11:36:12.569131Z",
     "iopub.status.busy": "2023-02-04T11:36:12.568991Z",
     "iopub.status.idle": "2023-02-04T11:36:12.575547Z",
     "shell.execute_reply": "2023-02-04T11:36:12.575219Z"
    }
   },
   "outputs": [],
   "source": [
    "label_pairs = pd.DataFrame([['No', 'bystander'],\n",
    "                            ['No', 'rescuer'],\n",
    "                            ['Yes', 'bystander'],\n",
    "                            ['Yes', 'rescuer']],\n",
    "                           columns=['party_yn', 'respondent'])\n",
    "both_cols = np.concatenate([bystander_tab.iloc[0],\n",
    "                            bystander_tab.iloc[1]])\n",
    "label_indices = np.repeat([0, 1, 2, 3], both_cols)\n",
    "people = label_pairs.loc[label_indices].reset_index(drop=True)\n",
    "people"
   ]
  },
  {
   "cell_type": "code",
   "execution_count": 4,
   "id": "ef762eaf",
   "metadata": {
    "execution": {
     "iopub.execute_input": "2023-02-04T11:36:12.577387Z",
     "iopub.status.busy": "2023-02-04T11:36:12.577235Z",
     "iopub.status.idle": "2023-02-04T11:36:12.585495Z",
     "shell.execute_reply": "2023-02-04T11:36:12.585188Z"
    }
   },
   "outputs": [],
   "source": [
    "# This corresponds to the input crosstab data frame.\n",
    "pd.crosstab(people['party_yn'], people['respondent'])"
   ]
  },
  {
   "cell_type": "markdown",
   "id": "1a737064",
   "metadata": {},
   "source": [
    "Your job is to make a general function, `xtab2obs`, that accepts a crosstabulation data frame, and returns the corresponding observations data frame.\n",
    "\n",
    "The columns should be called 'label0', 'label0'.\n",
    "\n",
    "Your function should work with any number of rows (labels) and columns in the input data frame.  The example above as 2 row labels and 2 column labels, but your function should work for $m$ rows and $n$ columns, where $m$, $n$ can be any number."
   ]
  },
  {
   "cell_type": "code",
   "execution_count": 5,
   "id": "ce80c7b3",
   "metadata": {
    "execution": {
     "iopub.execute_input": "2023-02-04T11:36:12.587302Z",
     "iopub.status.busy": "2023-02-04T11:36:12.587164Z",
     "iopub.status.idle": "2023-02-04T11:36:12.589768Z",
     "shell.execute_reply": "2023-02-04T11:36:12.589468Z"
    },
    "lines_to_next_cell": 2
   },
   "outputs": [],
   "source": [
    "def xtab2obs(tab_df):\n",
    "    # Your instructor's solution was 5 lines.\n",
    "    label_pairs = product(tab_df.index, tab_df.columns)\n",
    "    pair_df = pd.DataFrame(label_pairs, columns=['label0', 'label1'])\n",
    "    n_repeats = np.array(tab_df).ravel()\n",
    "    obs_labels = np.repeat(pair_df.index, n_repeats)\n",
    "    obs_df = pair_df.loc[obs_labels].reset_index(drop=True)\n",
    "    return obs_df"
   ]
  },
  {
   "cell_type": "code",
   "execution_count": 6,
   "id": "4c8c5418",
   "metadata": {
    "execution": {
     "iopub.execute_input": "2023-02-04T11:36:12.591580Z",
     "iopub.status.busy": "2023-02-04T11:36:12.591436Z",
     "iopub.status.idle": "2023-02-04T11:36:12.596412Z",
     "shell.execute_reply": "2023-02-04T11:36:12.596073Z"
    }
   },
   "outputs": [],
   "source": [
    "xtab2obs(bystander_tab)"
   ]
  },
  {
   "cell_type": "code",
   "execution_count": 7,
   "id": "5cfb2583",
   "metadata": {
    "execution": {
     "iopub.execute_input": "2023-02-04T11:36:12.598178Z",
     "iopub.status.busy": "2023-02-04T11:36:12.598032Z",
     "iopub.status.idle": "2023-02-04T11:36:12.600398Z",
     "shell.execute_reply": "2023-02-04T11:36:12.600093Z"
    }
   },
   "outputs": [],
   "source": [
    "def test_tab(in_tab):\n",
    "    obs = xtab2obs(in_tab)\n",
    "    assert len(obs) == np.sum(np.array(in_tab))\n",
    "    xtab = pd.crosstab(obs['label0'], obs['label1'])\n",
    "    assert xtab.equals(in_tab)"
   ]
  },
  {
   "cell_type": "code",
   "execution_count": 8,
   "id": "a51ab299",
   "metadata": {
    "execution": {
     "iopub.execute_input": "2023-02-04T11:36:12.602145Z",
     "iopub.status.busy": "2023-02-04T11:36:12.602006Z",
     "iopub.status.idle": "2023-02-04T11:36:12.607963Z",
     "shell.execute_reply": "2023-02-04T11:36:12.607636Z"
    }
   },
   "outputs": [],
   "source": [
    "test_tab(bystander_tab)"
   ]
  },
  {
   "cell_type": "code",
   "execution_count": 9,
   "id": "4fde5034",
   "metadata": {
    "execution": {
     "iopub.execute_input": "2023-02-04T11:36:12.609671Z",
     "iopub.status.busy": "2023-02-04T11:36:12.609560Z",
     "iopub.status.idle": "2023-02-04T11:36:12.614087Z",
     "shell.execute_reply": "2023-02-04T11:36:12.613761Z"
    }
   },
   "outputs": [],
   "source": [
    "fake_tab = pd.DataFrame([[10, 15, 20],\n",
    "                         [3, 7, 9],\n",
    "                         [1, 12, 19],\n",
    "                         [2, 22, 9]],\n",
    "                        columns=['col0', 'col1', 'col2'],\n",
    "                        index=list('ABCD'))\n",
    "fake_tab"
   ]
  },
  {
   "cell_type": "code",
   "execution_count": 10,
   "id": "2f1a8f34",
   "metadata": {
    "execution": {
     "iopub.execute_input": "2023-02-04T11:36:12.615838Z",
     "iopub.status.busy": "2023-02-04T11:36:12.615687Z",
     "iopub.status.idle": "2023-02-04T11:36:12.621571Z",
     "shell.execute_reply": "2023-02-04T11:36:12.621213Z"
    }
   },
   "outputs": [],
   "source": [
    "test_tab(bystander_tab)"
   ]
  },
  {
   "cell_type": "markdown",
   "id": "3295e380",
   "metadata": {},
   "source": [
    "## Done.\n",
    "\n",
    "Congratulations, you're done with the assignment!  Be sure to:\n",
    "\n",
    "- **run all the tests** (the next cell has a shortcut for that).\n",
    "- **Save and Checkpoint** from the `File` menu."
   ]
  },
  {
   "cell_type": "code",
   "execution_count": 11,
   "id": "8276bfb9",
   "metadata": {
    "execution": {
     "iopub.execute_input": "2023-02-04T11:36:12.623481Z",
     "iopub.status.busy": "2023-02-04T11:36:12.623338Z",
     "iopub.status.idle": "2023-02-04T11:36:12.625707Z",
     "shell.execute_reply": "2023-02-04T11:36:12.625360Z"
    }
   },
   "outputs": [],
   "source": [
    "# For your convenience, you can run this cell to run all the tests at once!\n",
    "import os\n",
    "_ = [ok.grade(q[:-3]) for q in os.listdir(\"tests\") if q.startswith('q')]"
   ]
  }
 ],
 "metadata": {
  "jupytext": {
   "notebook_metadata_filter": "all,-language_info",
   "split_at_heading": true,
   "text_representation": {
    "extension": ".Rmd",
    "format_name": "rmarkdown",
    "format_version": "1.2",
    "jupytext_version": "1.14.1"
   }
  },
  "kernelspec": {
   "display_name": "Python 3 (ipykernel)",
   "language": "python",
   "name": "python3"
  },
  "language_info": {
   "codemirror_mode": {
    "name": "ipython",
    "version": 3
   },
   "file_extension": ".py",
   "mimetype": "text/x-python",
   "name": "python",
   "nbconvert_exporter": "python",
   "pygments_lexer": "ipython3",
   "version": "3.10.9"
  }
 },
 "nbformat": 4,
 "nbformat_minor": 5
}
