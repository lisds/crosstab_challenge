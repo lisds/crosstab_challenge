{
 "cells": [
  {
   "cell_type": "markdown",
   "id": "5c42086b",
   "metadata": {},
   "source": [
    "# Crosstabulation challenge"
   ]
  },
  {
   "cell_type": "code",
   "execution_count": 1,
   "id": "c667adb4",
   "metadata": {
    "execution": {
     "iopub.execute_input": "2023-02-04T11:24:38.007149Z",
     "iopub.status.busy": "2023-02-04T11:24:38.006820Z",
     "iopub.status.idle": "2023-02-04T11:24:38.418864Z",
     "shell.execute_reply": "2023-02-04T11:24:38.418508Z"
    }
   },
   "outputs": [],
   "source": [
    "# You may want to use this one.\n",
    "from itertools import product\n",
    "\n",
    "# Don't change this cell; just run it.\n",
    "import numpy as np  # The array library.\n",
    "\n",
    "import pandas as pd\n",
    "# Safe setting for Pandas.  Needs Pandas version >= 1.5.\n",
    "pd.set_option('mode.copy_on_write', True)\n",
    "\n",
    "# The OKpy testing system.\n",
    "from client.api.notebook import Notebook\n",
    "ok = Notebook('crosstab_challenge.ok')"
   ]
  },
  {
   "cell_type": "markdown",
   "id": "c53f8d64",
   "metadata": {},
   "source": [
    "## The challenge\n",
    "\n",
    "Write a function that accepts a crosstab type DataFrame, and returns the corresponding row=observation DataFrame."
   ]
  },
  {
   "cell_type": "markdown",
   "id": "d2df07d5",
   "metadata": {},
   "source": [
    "Here's an example crosstabulation:"
   ]
  },
  {
   "cell_type": "code",
   "execution_count": 2,
   "id": "dcd3a4d7",
   "metadata": {
    "execution": {
     "iopub.execute_input": "2023-02-04T11:24:38.421084Z",
     "iopub.status.busy": "2023-02-04T11:24:38.420870Z",
     "iopub.status.idle": "2023-02-04T11:24:38.428773Z",
     "shell.execute_reply": "2023-02-04T11:24:38.428432Z"
    }
   },
   "outputs": [],
   "source": [
    "bystander_tab = pd.DataFrame([[64, 165],\n",
    "                              [7, 44]],\n",
    "                             columns=['bystander', 'rescuer'],\n",
    "                             index=['No', 'Yes'])\n",
    "bystander_tab"
   ]
  },
  {
   "cell_type": "markdown",
   "id": "891a0051",
   "metadata": {},
   "source": [
    "This is a crosstabulation for which the raw material was an *observations* table / DataFrame.  That observations table had one row per person, two columns, where the first column has \"Yes\" or \"No\" for whether that person was a member of a political party, and the second has \"bystander\" or \"rescuer\".\n",
    "\n",
    "Here is the long-hand version of that, from the \"noble_politics\" page:"
   ]
  },
  {
   "cell_type": "code",
   "execution_count": 3,
   "id": "f9657499",
   "metadata": {
    "execution": {
     "iopub.execute_input": "2023-02-04T11:24:38.430636Z",
     "iopub.status.busy": "2023-02-04T11:24:38.430489Z",
     "iopub.status.idle": "2023-02-04T11:24:38.437192Z",
     "shell.execute_reply": "2023-02-04T11:24:38.436830Z"
    }
   },
   "outputs": [],
   "source": [
    "label_pairs = pd.DataFrame([['No', 'bystander'],\n",
    "                            ['No', 'rescuer'],\n",
    "                            ['Yes', 'bystander'],\n",
    "                            ['Yes', 'rescuer']],\n",
    "                           columns=['party_yn', 'respondent'])\n",
    "both_cols = np.concatenate([bystander_tab.iloc[0],\n",
    "                            bystander_tab.iloc[1]])\n",
    "label_indices = np.repeat([0, 1, 2, 3], both_cols)\n",
    "people = label_pairs.loc[label_indices].reset_index(drop=True)\n",
    "people"
   ]
  },
  {
   "cell_type": "code",
   "execution_count": 4,
   "id": "d5e4dd53",
   "metadata": {
    "execution": {
     "iopub.execute_input": "2023-02-04T11:24:38.438997Z",
     "iopub.status.busy": "2023-02-04T11:24:38.438847Z",
     "iopub.status.idle": "2023-02-04T11:24:38.447055Z",
     "shell.execute_reply": "2023-02-04T11:24:38.446647Z"
    }
   },
   "outputs": [],
   "source": [
    "# This corresponds to the input crosstab data frame.\n",
    "pd.crosstab(people['party_yn'], people['respondent'])"
   ]
  },
  {
   "cell_type": "markdown",
   "id": "3a2fbec3",
   "metadata": {},
   "source": [
    "Your job is to make a general function, `xtab2obs`, that accepts a crosstabulation data frame, and returns the corresponding observations data frame.\n",
    "\n",
    "The columns should be called 'label0', 'label0'.\n",
    "\n",
    "Your function should work with any number of rows (labels) and columns in the input data frame.  The example above as 2 row labels and 2 column labels, but your function should work for $m$ rows and $n$ columns, where $m$, $n$ can be any number."
   ]
  },
  {
   "cell_type": "code",
   "execution_count": 5,
   "id": "5210fd77",
   "metadata": {
    "execution": {
     "iopub.execute_input": "2023-02-04T11:24:38.449039Z",
     "iopub.status.busy": "2023-02-04T11:24:38.448811Z",
     "iopub.status.idle": "2023-02-04T11:24:38.451514Z",
     "shell.execute_reply": "2023-02-04T11:24:38.451198Z"
    },
    "lines_to_next_cell": 2
   },
   "outputs": [],
   "source": [
    "def xtab2obs(tab_df):\n",
    "    # Your instructor's solution was 5 lines.\n",
    "    label_pairs = product(tab_df.index, tab_df.columns)\n",
    "    pair_df = pd.DataFrame(label_pairs, columns=['label0', 'label1'])\n",
    "    n_repeats = np.array(tab_df).ravel()\n",
    "    obs_labels = np.repeat(pair_df.index, n_repeats)\n",
    "    obs_df = pair_df.loc[obs_labels].reset_index(drop=True)\n",
    "    return obs_df"
   ]
  },
  {
   "cell_type": "code",
   "execution_count": 6,
   "id": "0b9ea3f4",
   "metadata": {
    "execution": {
     "iopub.execute_input": "2023-02-04T11:24:38.453302Z",
     "iopub.status.busy": "2023-02-04T11:24:38.453155Z",
     "iopub.status.idle": "2023-02-04T11:24:38.458053Z",
     "shell.execute_reply": "2023-02-04T11:24:38.457727Z"
    }
   },
   "outputs": [],
   "source": [
    "xtab2obs(bystander_tab)"
   ]
  },
  {
   "cell_type": "code",
   "execution_count": 7,
   "id": "2c63bd93",
   "metadata": {
    "execution": {
     "iopub.execute_input": "2023-02-04T11:24:38.459841Z",
     "iopub.status.busy": "2023-02-04T11:24:38.459695Z",
     "iopub.status.idle": "2023-02-04T11:24:38.461956Z",
     "shell.execute_reply": "2023-02-04T11:24:38.461618Z"
    }
   },
   "outputs": [],
   "source": [
    "def test_tab(in_tab):\n",
    "    obs = xtab2obs(in_tab)\n",
    "    assert len(obs) == np.sum(np.array(in_tab))\n",
    "    xtab = pd.crosstab(obs['label0'], obs['label1'])\n",
    "    assert xtab.equals(in_tab)"
   ]
  },
  {
   "cell_type": "code",
   "execution_count": 8,
   "id": "b9539880",
   "metadata": {
    "execution": {
     "iopub.execute_input": "2023-02-04T11:24:38.463715Z",
     "iopub.status.busy": "2023-02-04T11:24:38.463578Z",
     "iopub.status.idle": "2023-02-04T11:24:38.469638Z",
     "shell.execute_reply": "2023-02-04T11:24:38.469296Z"
    }
   },
   "outputs": [],
   "source": [
    "test_tab(bystander_tab)"
   ]
  },
  {
   "cell_type": "code",
   "execution_count": 9,
   "id": "503e2081",
   "metadata": {
    "execution": {
     "iopub.execute_input": "2023-02-04T11:24:38.471391Z",
     "iopub.status.busy": "2023-02-04T11:24:38.471278Z",
     "iopub.status.idle": "2023-02-04T11:24:38.475858Z",
     "shell.execute_reply": "2023-02-04T11:24:38.475521Z"
    }
   },
   "outputs": [],
   "source": [
    "fake_tab = pd.DataFrame([[10, 15, 20],\n",
    "                         [3, 7, 9],\n",
    "                         [1, 12, 19],\n",
    "                         [2, 22, 9]],\n",
    "                        columns=['col0', 'col1', 'col2'],\n",
    "                        index=list('ABCD'))\n",
    "fake_tab"
   ]
  },
  {
   "cell_type": "code",
   "execution_count": 10,
   "id": "c2b1c68c",
   "metadata": {
    "execution": {
     "iopub.execute_input": "2023-02-04T11:24:38.477600Z",
     "iopub.status.busy": "2023-02-04T11:24:38.477448Z",
     "iopub.status.idle": "2023-02-04T11:24:38.483198Z",
     "shell.execute_reply": "2023-02-04T11:24:38.482848Z"
    }
   },
   "outputs": [],
   "source": [
    "test_tab(bystander_tab)"
   ]
  },
  {
   "cell_type": "markdown",
   "id": "0125fca2",
   "metadata": {},
   "source": [
    "## Done.\n",
    "\n",
    "Congratulations, you're done with the assignment!  Be sure to:\n",
    "\n",
    "- **run all the tests** (the next cell has a shortcut for that).\n",
    "- **Save and Checkpoint** from the `File` menu."
   ]
  },
  {
   "cell_type": "code",
   "execution_count": 11,
   "id": "1a8079fe",
   "metadata": {
    "execution": {
     "iopub.execute_input": "2023-02-04T11:24:38.485026Z",
     "iopub.status.busy": "2023-02-04T11:24:38.484889Z",
     "iopub.status.idle": "2023-02-04T11:24:38.487263Z",
     "shell.execute_reply": "2023-02-04T11:24:38.486915Z"
    }
   },
   "outputs": [],
   "source": [
    "# For your convenience, you can run this cell to run all the tests at once!\n",
    "import os\n",
    "_ = [ok.grade(q[:-3]) for q in os.listdir(\"tests\") if q.startswith('q')]"
   ]
  }
 ],
 "metadata": {
  "jupytext": {
   "notebook_metadata_filter": "all,-language_info",
   "split_at_heading": true,
   "text_representation": {
    "extension": ".Rmd",
    "format_name": "rmarkdown",
    "format_version": "1.2",
    "jupytext_version": "1.14.1"
   }
  },
  "kernelspec": {
   "display_name": "Python 3 (ipykernel)",
   "language": "python",
   "name": "python3"
  },
  "language_info": {
   "codemirror_mode": {
    "name": "ipython",
    "version": 3
   },
   "file_extension": ".py",
   "mimetype": "text/x-python",
   "name": "python",
   "nbconvert_exporter": "python",
   "pygments_lexer": "ipython3",
   "version": "3.10.9"
  }
 },
 "nbformat": 4,
 "nbformat_minor": 5
}
