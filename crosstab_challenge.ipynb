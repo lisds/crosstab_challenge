{
 "cells": [
  {
   "cell_type": "markdown",
   "id": "461cf377",
   "metadata": {},
   "source": [
    "# Crosstabulation challenge"
   ]
  },
  {
   "cell_type": "code",
   "execution_count": null,
   "id": "abc7816d",
   "metadata": {},
   "outputs": [],
   "source": [
    "# You may want to use this one.\n",
    "from itertools import product\n",
    "\n",
    "# Don't change this cell; just run it.\n",
    "import numpy as np  # The array library.\n",
    "\n",
    "import pandas as pd\n",
    "# Safe setting for Pandas.  Needs Pandas version >= 1.5.\n",
    "pd.set_option('mode.copy_on_write', True)\n",
    "\n",
    "# The OKpy testing system.\n",
    "from client.api.notebook import Notebook\n",
    "ok = Notebook('crosstab_challenge.ok')"
   ]
  },
  {
   "cell_type": "markdown",
   "id": "7d46acb8",
   "metadata": {},
   "source": [
    "## The challenge\n",
    "\n",
    "Write a function that accepts a crosstab type DataFrame, and returns the corresponding row=observation DataFrame."
   ]
  },
  {
   "cell_type": "markdown",
   "id": "5290628c",
   "metadata": {},
   "source": [
    "Here's an example crosstabulation:"
   ]
  },
  {
   "cell_type": "code",
   "execution_count": null,
   "id": "9df15e38",
   "metadata": {},
   "outputs": [],
   "source": [
    "bystander_tab = pd.DataFrame([[64, 165],\n",
    "                              [7, 44]],\n",
    "                             columns=['bystander', 'rescuer'],\n",
    "                             index=['No', 'Yes'])\n",
    "bystander_tab"
   ]
  },
  {
   "cell_type": "markdown",
   "id": "becec3f5",
   "metadata": {},
   "source": [
    "This is a crosstabulation for which the raw material was an *observations* table / DataFrame.  That observations table had one row per person, two columns, where the first column has \"Yes\" or \"No\" for whether that person was a member of a political party, and the second has \"bystander\" or \"rescuer\".\n",
    "\n",
    "Here is the long-hand version of that, from the \"noble_politics\" page:"
   ]
  },
  {
   "cell_type": "code",
   "execution_count": null,
   "id": "ec00066d",
   "metadata": {},
   "outputs": [],
   "source": [
    "label_pairs = pd.DataFrame([['No', 'bystander'],\n",
    "                            ['No', 'rescuer'],\n",
    "                            ['Yes', 'bystander'],\n",
    "                            ['Yes', 'rescuer']],\n",
    "                           columns=['party_yn', 'respondent'])\n",
    "both_cols = np.concatenate([bystander_tab.iloc[0],\n",
    "                            bystander_tab.iloc[1]])\n",
    "label_indices = np.repeat([0, 1, 2, 3], both_cols)\n",
    "people = label_pairs.loc[label_indices].reset_index(drop=True)\n",
    "people"
   ]
  },
  {
   "cell_type": "code",
   "execution_count": null,
   "id": "bf73878a",
   "metadata": {},
   "outputs": [],
   "source": [
    "# This corresponds to the input crosstab data frame.\n",
    "pd.crosstab(people['party_yn'], people['respondent'])"
   ]
  },
  {
   "cell_type": "markdown",
   "id": "e22ae927",
   "metadata": {},
   "source": [
    "Your job is to make a general function, `xtab2obs`, that accepts a crosstabulation data frame, and returns the corresponding observations data frame.\n",
    "\n",
    "The columns should be called 'label0', 'label0'.\n",
    "\n",
    "Your function should work with any number of rows (labels) and columns in the input data frame.  The example above as 2 row labels and 2 column labels, but your function should work for $m$ rows and $n$ columns, where $m$, $n$ can be any number."
   ]
  },
  {
   "cell_type": "code",
   "execution_count": null,
   "id": "570ce1e9",
   "metadata": {
    "lines_to_next_cell": 2
   },
   "outputs": [],
   "source": [
    "def xtab2obs(tab_df):\n",
    "    # Your instructor's solution was 5 lines.\n",
    "    # Your code here\n",
    "    ...\n",
    "    return obs_df"
   ]
  },
  {
   "cell_type": "code",
   "execution_count": null,
   "id": "48a72348",
   "metadata": {},
   "outputs": [],
   "source": [
    "xtab2obs(bystander_tab)"
   ]
  },
  {
   "cell_type": "code",
   "execution_count": null,
   "id": "866212b1",
   "metadata": {},
   "outputs": [],
   "source": [
    "def test_tab(in_tab):\n",
    "    obs = xtab2obs(in_tab)\n",
    "    assert len(obs) == np.sum(np.array(in_tab))\n",
    "    xtab = pd.crosstab(obs['label0'], obs['label1'])\n",
    "    assert xtab.equals(in_tab)"
   ]
  },
  {
   "cell_type": "code",
   "execution_count": null,
   "id": "541c0b46",
   "metadata": {},
   "outputs": [],
   "source": [
    "test_tab(bystander_tab)"
   ]
  },
  {
   "cell_type": "code",
   "execution_count": null,
   "id": "750e3d61",
   "metadata": {},
   "outputs": [],
   "source": [
    "fake_tab = pd.DataFrame([[10, 15, 20],\n",
    "                         [3, 7, 9],\n",
    "                         [1, 12, 19],\n",
    "                         [2, 22, 9]],\n",
    "                        columns=['col0', 'col1', 'col2'],\n",
    "                        index=list('ABCD'))\n",
    "fake_tab"
   ]
  },
  {
   "cell_type": "code",
   "execution_count": null,
   "id": "93cdfa8e",
   "metadata": {},
   "outputs": [],
   "source": [
    "test_tab(bystander_tab)"
   ]
  },
  {
   "cell_type": "markdown",
   "id": "c97a21ec",
   "metadata": {},
   "source": [
    "## Done.\n",
    "\n",
    "Congratulations, you're done with the assignment!  Be sure to:\n",
    "\n",
    "- **run all the tests** (the next cell has a shortcut for that).\n",
    "- **Save and Checkpoint** from the `File` menu."
   ]
  },
  {
   "cell_type": "code",
   "execution_count": null,
   "id": "11db4308",
   "metadata": {},
   "outputs": [],
   "source": [
    "# For your convenience, you can run this cell to run all the tests at once!\n",
    "import os\n",
    "_ = [ok.grade(q[:-3]) for q in os.listdir(\"tests\") if q.startswith('q')]"
   ]
  }
 ],
 "metadata": {
  "jupytext": {
   "notebook_metadata_filter": "all,-language_info",
   "split_at_heading": true,
   "text_representation": {
    "extension": ".Rmd",
    "format_name": "rmarkdown",
    "format_version": "1.2",
    "jupytext_version": "1.14.1"
   }
  },
  "kernelspec": {
   "display_name": "Python 3 (ipykernel)",
   "language": "python",
   "name": "python3"
  }
 },
 "nbformat": 4,
 "nbformat_minor": 5
}
